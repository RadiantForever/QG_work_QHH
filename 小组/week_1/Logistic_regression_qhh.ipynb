{
 "cells": [
  {
   "metadata": {
    "ExecuteTime": {
     "end_time": "2025-03-21T13:42:39.427300Z",
     "start_time": "2025-03-21T13:42:39.424027Z"
    }
   },
   "cell_type": "code",
   "source": [
    "#先准备好数据先\n",
    "import numpy as np\n",
    "import pandas as pd\n",
    "import matplotlib.pyplot as plt\n",
    "import seaborn as sns\n",
    "from sklearn.datasets import load_iris   #这里sklearn只是用来导入鸟花集，逻辑回归的核心还是根据公式原理手搓的\n",
    "#设置绘图大小\n",
    "plt.style.use({'figure.figsize':(25,20)}) # 给画大小, 长25, 宽20\n",
    "\n",
    "plt.rcParams['font.sans-serif']=['SimHei'] # 正常显示中文\n",
    "plt.rcParams['axes.unicode_minus']=False # 用来正常显示负号"
   ],
   "id": "15c5c7df0b3b71cc",
   "outputs": [],
   "execution_count": 87
  },
  {
   "metadata": {
    "ExecuteTime": {
     "end_time": "2025-03-21T13:42:39.453797Z",
     "start_time": "2025-03-21T13:42:39.445574Z"
    }
   },
   "cell_type": "code",
   "source": [
    "iris=load_iris()\n",
    "X = iris.data\n",
    "y = iris.target\n",
    "feature_names = iris.feature_names\n",
    "\n",
    "#转换为 DataFrame\n",
    "data=pd.DataFrame(data=X, columns=feature_names)\n",
    "data['species'] = y  # 添加种类列的标签\n",
    "data.head()"
   ],
   "id": "88e35109c6a78457",
   "outputs": [
    {
     "data": {
      "text/plain": [
       "   sepal length (cm)  sepal width (cm)  petal length (cm)  petal width (cm)  \\\n",
       "0                5.1               3.5                1.4               0.2   \n",
       "1                4.9               3.0                1.4               0.2   \n",
       "2                4.7               3.2                1.3               0.2   \n",
       "3                4.6               3.1                1.5               0.2   \n",
       "4                5.0               3.6                1.4               0.2   \n",
       "\n",
       "   species  \n",
       "0        0  \n",
       "1        0  \n",
       "2        0  \n",
       "3        0  \n",
       "4        0  "
      ],
      "text/html": [
       "<div>\n",
       "<style scoped>\n",
       "    .dataframe tbody tr th:only-of-type {\n",
       "        vertical-align: middle;\n",
       "    }\n",
       "\n",
       "    .dataframe tbody tr th {\n",
       "        vertical-align: top;\n",
       "    }\n",
       "\n",
       "    .dataframe thead th {\n",
       "        text-align: right;\n",
       "    }\n",
       "</style>\n",
       "<table border=\"1\" class=\"dataframe\">\n",
       "  <thead>\n",
       "    <tr style=\"text-align: right;\">\n",
       "      <th></th>\n",
       "      <th>sepal length (cm)</th>\n",
       "      <th>sepal width (cm)</th>\n",
       "      <th>petal length (cm)</th>\n",
       "      <th>petal width (cm)</th>\n",
       "      <th>species</th>\n",
       "    </tr>\n",
       "  </thead>\n",
       "  <tbody>\n",
       "    <tr>\n",
       "      <th>0</th>\n",
       "      <td>5.1</td>\n",
       "      <td>3.5</td>\n",
       "      <td>1.4</td>\n",
       "      <td>0.2</td>\n",
       "      <td>0</td>\n",
       "    </tr>\n",
       "    <tr>\n",
       "      <th>1</th>\n",
       "      <td>4.9</td>\n",
       "      <td>3.0</td>\n",
       "      <td>1.4</td>\n",
       "      <td>0.2</td>\n",
       "      <td>0</td>\n",
       "    </tr>\n",
       "    <tr>\n",
       "      <th>2</th>\n",
       "      <td>4.7</td>\n",
       "      <td>3.2</td>\n",
       "      <td>1.3</td>\n",
       "      <td>0.2</td>\n",
       "      <td>0</td>\n",
       "    </tr>\n",
       "    <tr>\n",
       "      <th>3</th>\n",
       "      <td>4.6</td>\n",
       "      <td>3.1</td>\n",
       "      <td>1.5</td>\n",
       "      <td>0.2</td>\n",
       "      <td>0</td>\n",
       "    </tr>\n",
       "    <tr>\n",
       "      <th>4</th>\n",
       "      <td>5.0</td>\n",
       "      <td>3.6</td>\n",
       "      <td>1.4</td>\n",
       "      <td>0.2</td>\n",
       "      <td>0</td>\n",
       "    </tr>\n",
       "  </tbody>\n",
       "</table>\n",
       "</div>"
      ]
     },
     "execution_count": 88,
     "metadata": {},
     "output_type": "execute_result"
    }
   ],
   "execution_count": 88
  },
  {
   "metadata": {
    "ExecuteTime": {
     "end_time": "2025-03-21T13:42:39.506502Z",
     "start_time": "2025-03-21T13:42:39.494995Z"
    }
   },
   "cell_type": "code",
   "source": [
    "#看看我们的导入的数据集有无缺失，数据类型\n",
    "data.info()\n",
    "data                                      #一睹芳容"
   ],
   "id": "b9134bff53551b5",
   "outputs": [
    {
     "name": "stdout",
     "output_type": "stream",
     "text": [
      "<class 'pandas.core.frame.DataFrame'>\n",
      "RangeIndex: 150 entries, 0 to 149\n",
      "Data columns (total 5 columns):\n",
      " #   Column             Non-Null Count  Dtype  \n",
      "---  ------             --------------  -----  \n",
      " 0   sepal length (cm)  150 non-null    float64\n",
      " 1   sepal width (cm)   150 non-null    float64\n",
      " 2   petal length (cm)  150 non-null    float64\n",
      " 3   petal width (cm)   150 non-null    float64\n",
      " 4   species            150 non-null    int64  \n",
      "dtypes: float64(4), int64(1)\n",
      "memory usage: 6.0 KB\n"
     ]
    },
    {
     "data": {
      "text/plain": [
       "     sepal length (cm)  sepal width (cm)  petal length (cm)  petal width (cm)  \\\n",
       "0                  5.1               3.5                1.4               0.2   \n",
       "1                  4.9               3.0                1.4               0.2   \n",
       "2                  4.7               3.2                1.3               0.2   \n",
       "3                  4.6               3.1                1.5               0.2   \n",
       "4                  5.0               3.6                1.4               0.2   \n",
       "..                 ...               ...                ...               ...   \n",
       "145                6.7               3.0                5.2               2.3   \n",
       "146                6.3               2.5                5.0               1.9   \n",
       "147                6.5               3.0                5.2               2.0   \n",
       "148                6.2               3.4                5.4               2.3   \n",
       "149                5.9               3.0                5.1               1.8   \n",
       "\n",
       "     species  \n",
       "0          0  \n",
       "1          0  \n",
       "2          0  \n",
       "3          0  \n",
       "4          0  \n",
       "..       ...  \n",
       "145        2  \n",
       "146        2  \n",
       "147        2  \n",
       "148        2  \n",
       "149        2  \n",
       "\n",
       "[150 rows x 5 columns]"
      ],
      "text/html": [
       "<div>\n",
       "<style scoped>\n",
       "    .dataframe tbody tr th:only-of-type {\n",
       "        vertical-align: middle;\n",
       "    }\n",
       "\n",
       "    .dataframe tbody tr th {\n",
       "        vertical-align: top;\n",
       "    }\n",
       "\n",
       "    .dataframe thead th {\n",
       "        text-align: right;\n",
       "    }\n",
       "</style>\n",
       "<table border=\"1\" class=\"dataframe\">\n",
       "  <thead>\n",
       "    <tr style=\"text-align: right;\">\n",
       "      <th></th>\n",
       "      <th>sepal length (cm)</th>\n",
       "      <th>sepal width (cm)</th>\n",
       "      <th>petal length (cm)</th>\n",
       "      <th>petal width (cm)</th>\n",
       "      <th>species</th>\n",
       "    </tr>\n",
       "  </thead>\n",
       "  <tbody>\n",
       "    <tr>\n",
       "      <th>0</th>\n",
       "      <td>5.1</td>\n",
       "      <td>3.5</td>\n",
       "      <td>1.4</td>\n",
       "      <td>0.2</td>\n",
       "      <td>0</td>\n",
       "    </tr>\n",
       "    <tr>\n",
       "      <th>1</th>\n",
       "      <td>4.9</td>\n",
       "      <td>3.0</td>\n",
       "      <td>1.4</td>\n",
       "      <td>0.2</td>\n",
       "      <td>0</td>\n",
       "    </tr>\n",
       "    <tr>\n",
       "      <th>2</th>\n",
       "      <td>4.7</td>\n",
       "      <td>3.2</td>\n",
       "      <td>1.3</td>\n",
       "      <td>0.2</td>\n",
       "      <td>0</td>\n",
       "    </tr>\n",
       "    <tr>\n",
       "      <th>3</th>\n",
       "      <td>4.6</td>\n",
       "      <td>3.1</td>\n",
       "      <td>1.5</td>\n",
       "      <td>0.2</td>\n",
       "      <td>0</td>\n",
       "    </tr>\n",
       "    <tr>\n",
       "      <th>4</th>\n",
       "      <td>5.0</td>\n",
       "      <td>3.6</td>\n",
       "      <td>1.4</td>\n",
       "      <td>0.2</td>\n",
       "      <td>0</td>\n",
       "    </tr>\n",
       "    <tr>\n",
       "      <th>...</th>\n",
       "      <td>...</td>\n",
       "      <td>...</td>\n",
       "      <td>...</td>\n",
       "      <td>...</td>\n",
       "      <td>...</td>\n",
       "    </tr>\n",
       "    <tr>\n",
       "      <th>145</th>\n",
       "      <td>6.7</td>\n",
       "      <td>3.0</td>\n",
       "      <td>5.2</td>\n",
       "      <td>2.3</td>\n",
       "      <td>2</td>\n",
       "    </tr>\n",
       "    <tr>\n",
       "      <th>146</th>\n",
       "      <td>6.3</td>\n",
       "      <td>2.5</td>\n",
       "      <td>5.0</td>\n",
       "      <td>1.9</td>\n",
       "      <td>2</td>\n",
       "    </tr>\n",
       "    <tr>\n",
       "      <th>147</th>\n",
       "      <td>6.5</td>\n",
       "      <td>3.0</td>\n",
       "      <td>5.2</td>\n",
       "      <td>2.0</td>\n",
       "      <td>2</td>\n",
       "    </tr>\n",
       "    <tr>\n",
       "      <th>148</th>\n",
       "      <td>6.2</td>\n",
       "      <td>3.4</td>\n",
       "      <td>5.4</td>\n",
       "      <td>2.3</td>\n",
       "      <td>2</td>\n",
       "    </tr>\n",
       "    <tr>\n",
       "      <th>149</th>\n",
       "      <td>5.9</td>\n",
       "      <td>3.0</td>\n",
       "      <td>5.1</td>\n",
       "      <td>1.8</td>\n",
       "      <td>2</td>\n",
       "    </tr>\n",
       "  </tbody>\n",
       "</table>\n",
       "<p>150 rows × 5 columns</p>\n",
       "</div>"
      ]
     },
     "execution_count": 89,
     "metadata": {},
     "output_type": "execute_result"
    }
   ],
   "execution_count": 89
  },
  {
   "metadata": {
    "ExecuteTime": {
     "end_time": "2025-03-21T13:42:39.624267Z",
     "start_time": "2025-03-21T13:42:39.620076Z"
    }
   },
   "cell_type": "code",
   "source": "data.shape",
   "id": "f082793a0094de68",
   "outputs": [
    {
     "data": {
      "text/plain": [
       "(150, 5)"
      ]
     },
     "execution_count": 90,
     "metadata": {},
     "output_type": "execute_result"
    }
   ],
   "execution_count": 90
  },
  {
   "metadata": {
    "ExecuteTime": {
     "end_time": "2025-03-21T13:42:39.695906Z",
     "start_time": "2025-03-21T13:42:39.693112Z"
    }
   },
   "cell_type": "code",
   "source": [
    "#因为数据集有三类不同品种的花，所以我们剔除一类，再来进行LR\n",
    "#那就去除后面的第三类 代号2吧\n",
    "X=X[y!=2]\n",
    "y=y[y!=2]"
   ],
   "id": "1d841e054f5a01b1",
   "outputs": [],
   "execution_count": 91
  },
  {
   "metadata": {
    "ExecuteTime": {
     "end_time": "2025-03-21T13:42:39.779971Z",
     "start_time": "2025-03-21T13:42:39.777061Z"
    }
   },
   "cell_type": "code",
   "source": [
    "#现在正式开始LR\n",
    "#添加截距\n",
    "X=np.hstack((np.ones((X.shape[0],1)), X))"
   ],
   "id": "c066a3b9b36dfdea",
   "outputs": [],
   "execution_count": 92
  },
  {
   "metadata": {
    "ExecuteTime": {
     "end_time": "2025-03-21T13:42:39.841157Z",
     "start_time": "2025-03-21T13:42:39.837671Z"
    }
   },
   "cell_type": "code",
   "source": [
    "#设置好训练集与测试集\n",
    "np.random.seed(666)  #就是喜欢666\n",
    "indices=np.random.permutation(len(X))\n",
    "train_size=int(len(X)*0.8)   #八比二吧\n",
    "X_train,y_train=X[indices[:train_size]],y[indices[:train_size]]\n",
    "X_test,y_test=X[indices[train_size:]],y[indices[train_size:]]\n"
   ],
   "id": "115af86732c6c3f3",
   "outputs": [],
   "execution_count": 93
  },
  {
   "metadata": {
    "ExecuteTime": {
     "end_time": "2025-03-21T13:42:39.881195Z",
     "start_time": "2025-03-21T13:42:39.877496Z"
    }
   },
   "cell_type": "code",
   "source": [
    "# 设置训练集的均值和标准差，对特征进行标准化\n",
    "mean=X_train[:, 1:].mean(axis=0)\n",
    "std=X_train[:, 1:].std(axis=0)\n",
    "X_train[:, 1:] = (X_train[:, 1:] - mean) / std\n",
    "X_test[:, 1:] = (X_test[:, 1:] - mean) / std"
   ],
   "id": "7cd35a5daea17f32",
   "outputs": [],
   "execution_count": 94
  },
  {
   "metadata": {
    "ExecuteTime": {
     "end_time": "2025-03-21T13:42:39.916897Z",
     "start_time": "2025-03-21T13:42:39.913845Z"
    }
   },
   "cell_type": "code",
   "source": "#LR核心开始",
   "id": "13e2dfd7f20719ac",
   "outputs": [],
   "execution_count": 95
  },
  {
   "metadata": {
    "ExecuteTime": {
     "end_time": "2025-03-21T13:42:39.940149Z",
     "start_time": "2025-03-21T13:42:39.934056Z"
    }
   },
   "cell_type": "code",
   "source": [
    "#设置好各项参数\n",
    "class LogisticRegression:\n",
    "    def __init__(self,alpha=0.01,interation=5000):\n",
    "        self.alpha=alpha#学习率\n",
    "        self.interation=interation#迭代次数\n",
    "        self.theta=None#模型的权重参数W\n",
    "\n",
    "        self.losshistory=[]#记录下损失值，画可视化函数\n",
    "    #sigmoid函数        高中信息题出现过的的函数今天也是被我用上了，哈哈\n",
    "    #Z=参数与X点乘，作为在sigmoid中的最终变量\n",
    "    def sigmoid(self,z):\n",
    "        return 1/(1+np.exp(-z))\n",
    "\n",
    "    def fit(self,X,y):\n",
    "        m,n=X.shape        #样本数与加了截距的特征数\n",
    "        self.theta=np.zeros(n)\n",
    "        for _ in range(self.interation):\n",
    "            z=np.dot(X,self.theta)\n",
    "            #算概率h theta\n",
    "            h=self.sigmoid(z)\n",
    "            #算出梯度\n",
    "            gradient=np.dot(X.T,h-y)/m\n",
    "            #差点忘了更新权重参数\n",
    "            self.theta=self.theta-self.alpha*gradient\n",
    "            #算交叉熵\n",
    "            loss=(-y*np.log(h)-(1-y)*np.log(1-h)).mean()\n",
    "\n",
    "\n",
    "            self.losshistory.append(loss)\n",
    "    #返回概率和分类的最终结果\n",
    "    def predict_hthetax(self,X):\n",
    "        return self.sigmoid(np.dot(X,self.theta))\n",
    "    def predict(self,X,threshold=0.5):\n",
    "        return (self.predict_hthetax(X) >= threshold).astype(int)"
   ],
   "id": "128015774ecc6f70",
   "outputs": [],
   "execution_count": 96
  },
  {
   "metadata": {
    "ExecuteTime": {
     "end_time": "2025-03-21T13:42:40.079378Z",
     "start_time": "2025-03-21T13:42:39.966368Z"
    }
   },
   "cell_type": "code",
   "source": [
    "#LR的各个板块我们已经弄好了，接下来就开始模型的训练\n",
    "model=LogisticRegression(alpha=0.01,interation=5000)\n",
    "model.fit(X_train,y_train)\n",
    "\n",
    "y_pred=model.predict(X_test)\n",
    "#来获取一下准确率，英文怎么拼写来着。。。。accuracy rate就叫ar吧\n",
    "ar=np.mean(y_pred==y_test)\n",
    "y_proba = model.predict_hthetax(X_test)\n",
    "print('准确率Accuracy rate:',ar*100,'%')\n",
    "\n",
    "print(\"\\n\\n权重参数\",model.theta)\n",
    "print(\"\\n\\n最后一次迭代的损失值\",model.losshistory[-1])\n",
    "\n",
    "\n",
    "#输出分类结果和错误分析\n",
    "print(\"\\n测试集分类结果和对应的预测概率\")\n",
    "for i in range(len(y_test)):\n",
    "    print(f\"样本 {i}:预测={y_pred[i]},真实={y_test[i]},预测为1的概率={y_proba[i]:.4f}\")\n",
    "\n",
    "errors=np.where(y_pred != y_test)[0]\n",
    "print(f\"\\n错误样本{len(errors)}个\")\n",
    "for i in errors:\n",
    "    print(f\"样本索引 {i}:预测={y_pred[i]},真实={y_test[i]},预测为1的概率={y_proba[i]:.4f}\")"
   ],
   "id": "8be84957a3514365",
   "outputs": [
    {
     "name": "stdout",
     "output_type": "stream",
     "text": [
      "准确率Accuracy rate: 100.0 %\n",
      "\n",
      "\n",
      "权重参数 [ 0.02919686  1.03634786 -1.34762335  1.77611714  1.79136752]\n",
      "\n",
      "\n",
      "最后一次迭代的损失值 0.0113186662145592\n",
      "\n",
      "测试集分类结果和对应的预测概率\n",
      "样本 0:预测=1,真实=1,预测为1的概率=0.9689\n",
      "样本 1:预测=1,真实=1,预测为1的概率=0.9994\n",
      "样本 2:预测=1,真实=1,预测为1的概率=0.9876\n",
      "样本 3:预测=0,真实=0,预测为1的概率=0.0078\n",
      "样本 4:预测=0,真实=0,预测为1的概率=0.0028\n",
      "样本 5:预测=0,真实=0,预测为1的概率=0.0044\n",
      "样本 6:预测=1,真实=1,预测为1的概率=0.9975\n",
      "样本 7:预测=0,真实=0,预测为1的概率=0.0029\n",
      "样本 8:预测=0,真实=0,预测为1的概率=0.0081\n",
      "样本 9:预测=1,真实=1,预测为1的概率=0.9829\n",
      "样本 10:预测=1,真实=1,预测为1的概率=0.9965\n",
      "样本 11:预测=1,真实=1,预测为1的概率=0.9937\n",
      "样本 12:预测=0,真实=0,预测为1的概率=0.0086\n",
      "样本 13:预测=1,真实=1,预测为1的概率=0.9951\n",
      "样本 14:预测=1,真实=1,预测为1的概率=0.9964\n",
      "样本 15:预测=1,真实=1,预测为1的概率=0.9979\n",
      "样本 16:预测=1,真实=1,预测为1的概率=0.9966\n",
      "样本 17:预测=0,真实=0,预测为1的概率=0.0129\n",
      "样本 18:预测=0,真实=0,预测为1的概率=0.0184\n",
      "样本 19:预测=0,真实=0,预测为1的概率=0.0057\n",
      "\n",
      "错误样本0个\n"
     ]
    }
   ],
   "execution_count": 97
  },
  {
   "metadata": {
    "ExecuteTime": {
     "end_time": "2025-03-21T13:42:40.283091Z",
     "start_time": "2025-03-21T13:42:40.097070Z"
    }
   },
   "cell_type": "code",
   "source": [
    "#可视化损失函数\n",
    "plt.plot(model.losshistory)\n",
    "plt.xlabel('迭代次数')\n",
    "plt.ylabel('下降损失')\n",
    "plt.title('梯度下降损失曲线 (基于学习率=0.01)')\n",
    "plt.grid(True)\n",
    "plt.show()"
   ],
   "id": "2422efbb08e2f7c7",
   "outputs": [
    {
     "data": {
      "text/plain": [
       "<Figure size 2500x2000 with 1 Axes>"
      ],
      "image/png": "[encoded data removed]"
     },
     "metadata": {},
     "output_type": "display_data"
    }
   ],
   "execution_count": 98
  }
 ],
 "metadata": {
  "kernelspec": {
   "display_name": "Python 3",
   "language": "python",
   "name": "python3"
  },
  "language_info": {
   "codemirror_mode": {
    "name": "ipython",
    "version": 2
   },
   "file_extension": ".py",
   "mimetype": "text/x-python",
   "name": "python",
   "nbconvert_exporter": "python",
   "pygments_lexer": "ipython2",
   "version": "2.7.6"
  }
 },
 "nbformat": 4,
 "nbformat_minor": 5
}
